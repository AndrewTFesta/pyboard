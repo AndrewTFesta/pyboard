{
 "cells": [
  {
   "cell_type": "code",
   "execution_count": null,
   "id": "initial_id",
   "metadata": {
    "collapsed": true,
    "is_executing": true
   },
   "outputs": [],
   "source": [
    "\n",
    "\n",
    "%load_ext autoreload"
   ]
  },
  {
   "cell_type": "markdown",
   "source": [
    "# LLM Playground\n",
    "\n",
    "TODO\n",
    "\n",
    "Load, run, and train top open-source LLMs\n",
    "\n",
    "https://huggingface.co/spaces/open-llm-leaderboard/open_llm_leaderboard\n",
    "https://huggingface.co/open-llm-leaderboard\n",
    "https://huggingface.co/spaces/lmsys/chatbot-arena-leaderboard\n",
    "https://huggingface.co/davidkim205/Rhea-72b-v0.5\n",
    "\n",
    "[Chatbot Arena: An Open Platform for Evaluating LLMs by Human Preference](https://arxiv.org/pdf/2403.04132)\n"
   ],
   "metadata": {
    "collapsed": false
   },
   "id": "5554d3b28750022"
  }
 ],
 "metadata": {
  "kernelspec": {
   "display_name": "Python 3",
   "language": "python",
   "name": "python3"
  },
  "language_info": {
   "codemirror_mode": {
    "name": "ipython",
    "version": 2
   },
   "file_extension": ".py",
   "mimetype": "text/x-python",
   "name": "python",
   "nbconvert_exporter": "python",
   "pygments_lexer": "ipython2",
   "version": "2.7.6"
  }
 },
 "nbformat": 4,
 "nbformat_minor": 5
}
